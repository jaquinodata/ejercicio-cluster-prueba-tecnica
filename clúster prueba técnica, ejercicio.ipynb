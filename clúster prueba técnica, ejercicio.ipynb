{
 "cells": [
  {
   "cell_type": "code",
   "execution_count": 4,
   "metadata": {},
   "outputs": [],
   "source": [
    "import numpy as np # linear algebra\n",
    "import pandas as pd # data processing, CSV file I/O (e.g. pd.read_csv)"
   ]
  },
  {
   "cell_type": "code",
   "execution_count": 11,
   "metadata": {},
   "outputs": [
    {
     "data": {
      "text/html": [
       "<div>\n",
       "<style scoped>\n",
       "    .dataframe tbody tr th:only-of-type {\n",
       "        vertical-align: middle;\n",
       "    }\n",
       "\n",
       "    .dataframe tbody tr th {\n",
       "        vertical-align: top;\n",
       "    }\n",
       "\n",
       "    .dataframe thead th {\n",
       "        text-align: right;\n",
       "    }\n",
       "</style>\n",
       "<table border=\"1\" class=\"dataframe\">\n",
       "  <thead>\n",
       "    <tr style=\"text-align: right;\">\n",
       "      <th></th>\n",
       "      <th>Unnamed: 0</th>\n",
       "      <th>Patrimonio</th>\n",
       "      <th>Ingresos_Mensuales</th>\n",
       "      <th>No_hijos</th>\n",
       "      <th>monto_credito</th>\n",
       "      <th>saldo_capital</th>\n",
       "      <th>saldo_Ahorro</th>\n",
       "      <th>Antiguedad_en_meses</th>\n",
       "      <th>plazo_dias</th>\n",
       "      <th>Edad</th>\n",
       "      <th>...</th>\n",
       "      <th>Max_dias_mora_reducida_4</th>\n",
       "      <th>Max_dias_mora_reducida_2</th>\n",
       "      <th>Max_dias_mora_reducida_6</th>\n",
       "      <th>Max_dias_mora_reducida_8</th>\n",
       "      <th>Max_dias_mora_reducida_1</th>\n",
       "      <th>Max_dias_mora_reducida_5</th>\n",
       "      <th>Max_dias_mora_reducida_9</th>\n",
       "      <th>Max_dias_mora_reducida_3</th>\n",
       "      <th>Max_dias_mora_reducida_7</th>\n",
       "      <th>predict</th>\n",
       "    </tr>\n",
       "  </thead>\n",
       "  <tbody>\n",
       "    <tr>\n",
       "      <th>0</th>\n",
       "      <td>519</td>\n",
       "      <td>25776195</td>\n",
       "      <td>619101</td>\n",
       "      <td>1</td>\n",
       "      <td>19.729355</td>\n",
       "      <td>1085560.0</td>\n",
       "      <td>1085560.0</td>\n",
       "      <td>56</td>\n",
       "      <td>720</td>\n",
       "      <td>53</td>\n",
       "      <td>...</td>\n",
       "      <td>0</td>\n",
       "      <td>0</td>\n",
       "      <td>0</td>\n",
       "      <td>0</td>\n",
       "      <td>0</td>\n",
       "      <td>0</td>\n",
       "      <td>0</td>\n",
       "      <td>0</td>\n",
       "      <td>0</td>\n",
       "      <td>0</td>\n",
       "    </tr>\n",
       "    <tr>\n",
       "      <th>1</th>\n",
       "      <td>1032</td>\n",
       "      <td>14073192</td>\n",
       "      <td>1123479</td>\n",
       "      <td>1</td>\n",
       "      <td>21.753053</td>\n",
       "      <td>2511907.0</td>\n",
       "      <td>2511907.0</td>\n",
       "      <td>109</td>\n",
       "      <td>720</td>\n",
       "      <td>41</td>\n",
       "      <td>...</td>\n",
       "      <td>0</td>\n",
       "      <td>0</td>\n",
       "      <td>0</td>\n",
       "      <td>0</td>\n",
       "      <td>0</td>\n",
       "      <td>0</td>\n",
       "      <td>0</td>\n",
       "      <td>0</td>\n",
       "      <td>0</td>\n",
       "      <td>0</td>\n",
       "    </tr>\n",
       "    <tr>\n",
       "      <th>2</th>\n",
       "      <td>557</td>\n",
       "      <td>19769399</td>\n",
       "      <td>747845</td>\n",
       "      <td>1</td>\n",
       "      <td>19.924546</td>\n",
       "      <td>1035049.0</td>\n",
       "      <td>1035049.0</td>\n",
       "      <td>61</td>\n",
       "      <td>540</td>\n",
       "      <td>58</td>\n",
       "      <td>...</td>\n",
       "      <td>0</td>\n",
       "      <td>0</td>\n",
       "      <td>0</td>\n",
       "      <td>0</td>\n",
       "      <td>0</td>\n",
       "      <td>0</td>\n",
       "      <td>0</td>\n",
       "      <td>0</td>\n",
       "      <td>0</td>\n",
       "      <td>1</td>\n",
       "    </tr>\n",
       "    <tr>\n",
       "      <th>3</th>\n",
       "      <td>642</td>\n",
       "      <td>9784054</td>\n",
       "      <td>1259934</td>\n",
       "      <td>1</td>\n",
       "      <td>20.362494</td>\n",
       "      <td>1319226.0</td>\n",
       "      <td>1319226.0</td>\n",
       "      <td>73</td>\n",
       "      <td>600</td>\n",
       "      <td>52</td>\n",
       "      <td>...</td>\n",
       "      <td>0</td>\n",
       "      <td>0</td>\n",
       "      <td>0</td>\n",
       "      <td>0</td>\n",
       "      <td>0</td>\n",
       "      <td>0</td>\n",
       "      <td>0</td>\n",
       "      <td>0</td>\n",
       "      <td>0</td>\n",
       "      <td>1</td>\n",
       "    </tr>\n",
       "    <tr>\n",
       "      <th>4</th>\n",
       "      <td>651</td>\n",
       "      <td>33272225</td>\n",
       "      <td>747845</td>\n",
       "      <td>0</td>\n",
       "      <td>21.017924</td>\n",
       "      <td>1019820.0</td>\n",
       "      <td>1019820.0</td>\n",
       "      <td>74</td>\n",
       "      <td>720</td>\n",
       "      <td>51</td>\n",
       "      <td>...</td>\n",
       "      <td>1</td>\n",
       "      <td>0</td>\n",
       "      <td>0</td>\n",
       "      <td>0</td>\n",
       "      <td>0</td>\n",
       "      <td>0</td>\n",
       "      <td>0</td>\n",
       "      <td>0</td>\n",
       "      <td>0</td>\n",
       "      <td>1</td>\n",
       "    </tr>\n",
       "  </tbody>\n",
       "</table>\n",
       "<p>5 rows × 33 columns</p>\n",
       "</div>"
      ],
      "text/plain": [
       "   Unnamed: 0   Patrimonio    Ingresos_Mensuales   No_hijos  monto_credito  \\\n",
       "0         519      25776195                619101         1      19.729355   \n",
       "1        1032      14073192               1123479         1      21.753053   \n",
       "2         557      19769399                747845         1      19.924546   \n",
       "3         642       9784054               1259934         1      20.362494   \n",
       "4         651      33272225                747845         0      21.017924   \n",
       "\n",
       "   saldo_capital  saldo_Ahorro  Antiguedad_en_meses  plazo_dias  Edad  ...  \\\n",
       "0      1085560.0     1085560.0                   56         720    53  ...   \n",
       "1      2511907.0     2511907.0                  109         720    41  ...   \n",
       "2      1035049.0     1035049.0                   61         540    58  ...   \n",
       "3      1319226.0     1319226.0                   73         600    52  ...   \n",
       "4      1019820.0     1019820.0                   74         720    51  ...   \n",
       "\n",
       "   Max_dias_mora_reducida_4  Max_dias_mora_reducida_2  \\\n",
       "0                         0                         0   \n",
       "1                         0                         0   \n",
       "2                         0                         0   \n",
       "3                         0                         0   \n",
       "4                         1                         0   \n",
       "\n",
       "   Max_dias_mora_reducida_6  Max_dias_mora_reducida_8  \\\n",
       "0                         0                         0   \n",
       "1                         0                         0   \n",
       "2                         0                         0   \n",
       "3                         0                         0   \n",
       "4                         0                         0   \n",
       "\n",
       "   Max_dias_mora_reducida_1  Max_dias_mora_reducida_5  \\\n",
       "0                         0                         0   \n",
       "1                         0                         0   \n",
       "2                         0                         0   \n",
       "3                         0                         0   \n",
       "4                         0                         0   \n",
       "\n",
       "   Max_dias_mora_reducida_9  Max_dias_mora_reducida_3  \\\n",
       "0                         0                         0   \n",
       "1                         0                         0   \n",
       "2                         0                         0   \n",
       "3                         0                         0   \n",
       "4                         0                         0   \n",
       "\n",
       "   Max_dias_mora_reducida_7  predict  \n",
       "0                         0        0  \n",
       "1                         0        0  \n",
       "2                         0        1  \n",
       "3                         0        1  \n",
       "4                         0        1  \n",
       "\n",
       "[5 rows x 33 columns]"
      ]
     },
     "execution_count": 11,
     "metadata": {},
     "output_type": "execute_result"
    }
   ],
   "source": [
    "df= pd.read_excel(\"C:/Users/jorge/Desktop/Base_nueva_DC_predict_1.xlsx\")\n",
    "df.head()"
   ]
  },
  {
   "cell_type": "code",
   "execution_count": 74,
   "metadata": {},
   "outputs": [],
   "source": [
    "df_1 =df[\"predict\"]=1"
   ]
  },
  {
   "cell_type": "code",
   "execution_count": 12,
   "metadata": {},
   "outputs": [
    {
     "name": "stdout",
     "output_type": "stream",
     "text": [
      "StandardScaler()\n"
     ]
    }
   ],
   "source": [
    "from sklearn.preprocessing import StandardScaler\n",
    "scaler=StandardScaler()\n",
    "print(scaler.fit(df))"
   ]
  },
  {
   "cell_type": "code",
   "execution_count": 13,
   "metadata": {},
   "outputs": [
    {
     "data": {
      "text/html": [
       "<div>\n",
       "<style scoped>\n",
       "    .dataframe tbody tr th:only-of-type {\n",
       "        vertical-align: middle;\n",
       "    }\n",
       "\n",
       "    .dataframe tbody tr th {\n",
       "        vertical-align: top;\n",
       "    }\n",
       "\n",
       "    .dataframe thead th {\n",
       "        text-align: right;\n",
       "    }\n",
       "</style>\n",
       "<table border=\"1\" class=\"dataframe\">\n",
       "  <thead>\n",
       "    <tr style=\"text-align: right;\">\n",
       "      <th></th>\n",
       "      <th>Unnamed: 0</th>\n",
       "      <th>Patrimonio</th>\n",
       "      <th>Ingresos_Mensuales</th>\n",
       "      <th>No_hijos</th>\n",
       "      <th>monto_credito</th>\n",
       "      <th>saldo_capital</th>\n",
       "      <th>saldo_Ahorro</th>\n",
       "      <th>Antiguedad_en_meses</th>\n",
       "      <th>plazo_dias</th>\n",
       "      <th>Edad</th>\n",
       "      <th>...</th>\n",
       "      <th>Max_dias_mora_reducida_4</th>\n",
       "      <th>Max_dias_mora_reducida_2</th>\n",
       "      <th>Max_dias_mora_reducida_6</th>\n",
       "      <th>Max_dias_mora_reducida_8</th>\n",
       "      <th>Max_dias_mora_reducida_1</th>\n",
       "      <th>Max_dias_mora_reducida_5</th>\n",
       "      <th>Max_dias_mora_reducida_9</th>\n",
       "      <th>Max_dias_mora_reducida_3</th>\n",
       "      <th>Max_dias_mora_reducida_7</th>\n",
       "      <th>predict</th>\n",
       "    </tr>\n",
       "  </thead>\n",
       "  <tbody>\n",
       "    <tr>\n",
       "      <th>0</th>\n",
       "      <td>-0.532317</td>\n",
       "      <td>-0.190345</td>\n",
       "      <td>-1.175665</td>\n",
       "      <td>0.679344</td>\n",
       "      <td>0.233370</td>\n",
       "      <td>-0.348386</td>\n",
       "      <td>0.172013</td>\n",
       "      <td>-0.584136</td>\n",
       "      <td>0.241082</td>\n",
       "      <td>0.690013</td>\n",
       "      <td>...</td>\n",
       "      <td>-0.149983</td>\n",
       "      <td>-0.222902</td>\n",
       "      <td>-0.097063</td>\n",
       "      <td>-0.116248</td>\n",
       "      <td>-0.216229</td>\n",
       "      <td>-0.107067</td>\n",
       "      <td>-0.119159</td>\n",
       "      <td>-0.085951</td>\n",
       "      <td>-0.068473</td>\n",
       "      <td>-1.275527</td>\n",
       "    </tr>\n",
       "    <tr>\n",
       "      <th>1</th>\n",
       "      <td>0.652406</td>\n",
       "      <td>-0.898149</td>\n",
       "      <td>-0.254886</td>\n",
       "      <td>0.679344</td>\n",
       "      <td>0.970185</td>\n",
       "      <td>0.907190</td>\n",
       "      <td>1.532966</td>\n",
       "      <td>0.838099</td>\n",
       "      <td>0.241082</td>\n",
       "      <td>-0.169995</td>\n",
       "      <td>...</td>\n",
       "      <td>-0.149983</td>\n",
       "      <td>-0.222902</td>\n",
       "      <td>-0.097063</td>\n",
       "      <td>-0.116248</td>\n",
       "      <td>-0.216229</td>\n",
       "      <td>-0.107067</td>\n",
       "      <td>-0.119159</td>\n",
       "      <td>-0.085951</td>\n",
       "      <td>-0.068473</td>\n",
       "      <td>-1.275527</td>\n",
       "    </tr>\n",
       "    <tr>\n",
       "      <th>2</th>\n",
       "      <td>-0.444560</td>\n",
       "      <td>-0.553639</td>\n",
       "      <td>-0.940633</td>\n",
       "      <td>0.679344</td>\n",
       "      <td>0.304437</td>\n",
       "      <td>-0.392849</td>\n",
       "      <td>0.123818</td>\n",
       "      <td>-0.449963</td>\n",
       "      <td>-0.468030</td>\n",
       "      <td>1.048350</td>\n",
       "      <td>...</td>\n",
       "      <td>-0.149983</td>\n",
       "      <td>-0.222902</td>\n",
       "      <td>-0.097063</td>\n",
       "      <td>-0.116248</td>\n",
       "      <td>-0.216229</td>\n",
       "      <td>-0.107067</td>\n",
       "      <td>-0.119159</td>\n",
       "      <td>-0.085951</td>\n",
       "      <td>-0.068473</td>\n",
       "      <td>0.783989</td>\n",
       "    </tr>\n",
       "    <tr>\n",
       "      <th>3</th>\n",
       "      <td>-0.248261</td>\n",
       "      <td>-1.157558</td>\n",
       "      <td>-0.005777</td>\n",
       "      <td>0.679344</td>\n",
       "      <td>0.463891</td>\n",
       "      <td>-0.142696</td>\n",
       "      <td>0.394966</td>\n",
       "      <td>-0.127948</td>\n",
       "      <td>-0.231659</td>\n",
       "      <td>0.618346</td>\n",
       "      <td>...</td>\n",
       "      <td>-0.149983</td>\n",
       "      <td>-0.222902</td>\n",
       "      <td>-0.097063</td>\n",
       "      <td>-0.116248</td>\n",
       "      <td>-0.216229</td>\n",
       "      <td>-0.107067</td>\n",
       "      <td>-0.119159</td>\n",
       "      <td>-0.085951</td>\n",
       "      <td>-0.068473</td>\n",
       "      <td>0.783989</td>\n",
       "    </tr>\n",
       "    <tr>\n",
       "      <th>4</th>\n",
       "      <td>-0.227476</td>\n",
       "      <td>0.263019</td>\n",
       "      <td>-0.940633</td>\n",
       "      <td>-1.150127</td>\n",
       "      <td>0.702529</td>\n",
       "      <td>-0.406255</td>\n",
       "      <td>0.109287</td>\n",
       "      <td>-0.101113</td>\n",
       "      <td>0.241082</td>\n",
       "      <td>0.546678</td>\n",
       "      <td>...</td>\n",
       "      <td>6.667424</td>\n",
       "      <td>-0.222902</td>\n",
       "      <td>-0.097063</td>\n",
       "      <td>-0.116248</td>\n",
       "      <td>-0.216229</td>\n",
       "      <td>-0.107067</td>\n",
       "      <td>-0.119159</td>\n",
       "      <td>-0.085951</td>\n",
       "      <td>-0.068473</td>\n",
       "      <td>0.783989</td>\n",
       "    </tr>\n",
       "  </tbody>\n",
       "</table>\n",
       "<p>5 rows × 33 columns</p>\n",
       "</div>"
      ],
      "text/plain": [
       "   Unnamed: 0   Patrimonio    Ingresos_Mensuales   No_hijos  monto_credito  \\\n",
       "0   -0.532317     -0.190345             -1.175665  0.679344       0.233370   \n",
       "1    0.652406     -0.898149             -0.254886  0.679344       0.970185   \n",
       "2   -0.444560     -0.553639             -0.940633  0.679344       0.304437   \n",
       "3   -0.248261     -1.157558             -0.005777  0.679344       0.463891   \n",
       "4   -0.227476      0.263019             -0.940633 -1.150127       0.702529   \n",
       "\n",
       "   saldo_capital  saldo_Ahorro  Antiguedad_en_meses  plazo_dias      Edad  \\\n",
       "0      -0.348386      0.172013            -0.584136    0.241082  0.690013   \n",
       "1       0.907190      1.532966             0.838099    0.241082 -0.169995   \n",
       "2      -0.392849      0.123818            -0.449963   -0.468030  1.048350   \n",
       "3      -0.142696      0.394966            -0.127948   -0.231659  0.618346   \n",
       "4      -0.406255      0.109287            -0.101113    0.241082  0.546678   \n",
       "\n",
       "   ...  Max_dias_mora_reducida_4  Max_dias_mora_reducida_2  \\\n",
       "0  ...                 -0.149983                 -0.222902   \n",
       "1  ...                 -0.149983                 -0.222902   \n",
       "2  ...                 -0.149983                 -0.222902   \n",
       "3  ...                 -0.149983                 -0.222902   \n",
       "4  ...                  6.667424                 -0.222902   \n",
       "\n",
       "   Max_dias_mora_reducida_6  Max_dias_mora_reducida_8  \\\n",
       "0                 -0.097063                 -0.116248   \n",
       "1                 -0.097063                 -0.116248   \n",
       "2                 -0.097063                 -0.116248   \n",
       "3                 -0.097063                 -0.116248   \n",
       "4                 -0.097063                 -0.116248   \n",
       "\n",
       "   Max_dias_mora_reducida_1  Max_dias_mora_reducida_5  \\\n",
       "0                 -0.216229                 -0.107067   \n",
       "1                 -0.216229                 -0.107067   \n",
       "2                 -0.216229                 -0.107067   \n",
       "3                 -0.216229                 -0.107067   \n",
       "4                 -0.216229                 -0.107067   \n",
       "\n",
       "   Max_dias_mora_reducida_9  Max_dias_mora_reducida_3  \\\n",
       "0                 -0.119159                 -0.085951   \n",
       "1                 -0.119159                 -0.085951   \n",
       "2                 -0.119159                 -0.085951   \n",
       "3                 -0.119159                 -0.085951   \n",
       "4                 -0.119159                 -0.085951   \n",
       "\n",
       "   Max_dias_mora_reducida_7   predict  \n",
       "0                 -0.068473 -1.275527  \n",
       "1                 -0.068473 -1.275527  \n",
       "2                 -0.068473  0.783989  \n",
       "3                 -0.068473  0.783989  \n",
       "4                 -0.068473  0.783989  \n",
       "\n",
       "[5 rows x 33 columns]"
      ]
     },
     "execution_count": 13,
     "metadata": {},
     "output_type": "execute_result"
    }
   ],
   "source": [
    "df_std=pd.DataFrame(scaler.fit_transform(df), columns=df.columns)\n",
    "df_std.head()"
   ]
  },
  {
   "cell_type": "code",
   "execution_count": 14,
   "metadata": {},
   "outputs": [
    {
     "name": "stdout",
     "output_type": "stream",
     "text": [
      "[[ 2.53954163  0.88775938 -0.65443896  1.91130955  0.71152521 -1.25920516]\n",
      " [-0.50570875  1.98429438 -1.34930599  0.35877448 -1.02943836  0.59012727]\n",
      " [ 0.43240245 -0.3842907  -1.17592753 -0.1870736   2.21224254 -0.71701938]\n",
      " ...\n",
      " [-1.08140213  0.18363243  3.4280956  -1.49351063 -0.79456914 -0.05281452]\n",
      " [ 2.1481134   1.72166135  0.31028382 -0.60326309 -1.66202389  0.34822563]\n",
      " [-1.4142888  -0.82156789  0.30246781 -1.34263021 -0.9694825   0.20314748]]\n"
     ]
    }
   ],
   "source": [
    "print(pca.fit_transform(df_std))"
   ]
  },
  {
   "cell_type": "code",
   "execution_count": 46,
   "metadata": {},
   "outputs": [],
   "source": [
    "from sklearn.decomposition import PCA\n",
    "pca = PCA(n_components=6)\n",
    "pca.fit(df_std)\n",
    "pca_samples = pca.transform(df_std)"
   ]
  },
  {
   "cell_type": "code",
   "execution_count": 47,
   "metadata": {},
   "outputs": [
    {
     "data": {
      "text/html": [
       "<div>\n",
       "<style scoped>\n",
       "    .dataframe tbody tr th:only-of-type {\n",
       "        vertical-align: middle;\n",
       "    }\n",
       "\n",
       "    .dataframe tbody tr th {\n",
       "        vertical-align: top;\n",
       "    }\n",
       "\n",
       "    .dataframe thead th {\n",
       "        text-align: right;\n",
       "    }\n",
       "</style>\n",
       "<table border=\"1\" class=\"dataframe\">\n",
       "  <thead>\n",
       "    <tr style=\"text-align: right;\">\n",
       "      <th></th>\n",
       "      <th>0</th>\n",
       "      <th>1</th>\n",
       "      <th>2</th>\n",
       "      <th>3</th>\n",
       "      <th>4</th>\n",
       "      <th>5</th>\n",
       "    </tr>\n",
       "  </thead>\n",
       "  <tbody>\n",
       "    <tr>\n",
       "      <th>0</th>\n",
       "      <td>2.536947</td>\n",
       "      <td>0.887871</td>\n",
       "      <td>-0.660738</td>\n",
       "      <td>1.920289</td>\n",
       "      <td>0.733144</td>\n",
       "      <td>-1.178182</td>\n",
       "    </tr>\n",
       "    <tr>\n",
       "      <th>1</th>\n",
       "      <td>-0.507906</td>\n",
       "      <td>1.983265</td>\n",
       "      <td>-1.354261</td>\n",
       "      <td>0.352184</td>\n",
       "      <td>-1.025296</td>\n",
       "      <td>0.555398</td>\n",
       "    </tr>\n",
       "    <tr>\n",
       "      <th>2</th>\n",
       "      <td>0.432176</td>\n",
       "      <td>-0.385976</td>\n",
       "      <td>-1.184270</td>\n",
       "      <td>-0.140463</td>\n",
       "      <td>2.219839</td>\n",
       "      <td>-0.781179</td>\n",
       "    </tr>\n",
       "    <tr>\n",
       "      <th>3</th>\n",
       "      <td>0.317855</td>\n",
       "      <td>0.163454</td>\n",
       "      <td>-1.216561</td>\n",
       "      <td>0.321475</td>\n",
       "      <td>1.886192</td>\n",
       "      <td>-0.529286</td>\n",
       "    </tr>\n",
       "    <tr>\n",
       "      <th>4</th>\n",
       "      <td>3.463788</td>\n",
       "      <td>1.998014</td>\n",
       "      <td>2.101358</td>\n",
       "      <td>-2.870621</td>\n",
       "      <td>2.242993</td>\n",
       "      <td>0.404044</td>\n",
       "    </tr>\n",
       "  </tbody>\n",
       "</table>\n",
       "</div>"
      ],
      "text/plain": [
       "          0         1         2         3         4         5\n",
       "0  2.536947  0.887871 -0.660738  1.920289  0.733144 -1.178182\n",
       "1 -0.507906  1.983265 -1.354261  0.352184 -1.025296  0.555398\n",
       "2  0.432176 -0.385976 -1.184270 -0.140463  2.219839 -0.781179\n",
       "3  0.317855  0.163454 -1.216561  0.321475  1.886192 -0.529286\n",
       "4  3.463788  1.998014  2.101358 -2.870621  2.242993  0.404044"
      ]
     },
     "execution_count": 47,
     "metadata": {},
     "output_type": "execute_result"
    }
   ],
   "source": [
    "ps = pd.DataFrame(pca_samples)\n",
    "ps.head()"
   ]
  },
  {
   "cell_type": "code",
   "execution_count": 48,
   "metadata": {},
   "outputs": [],
   "source": [
    "df_var = pd.DataFrame({\"var\":100*pca.explained_variance_ratio_,\"PC\":[\"PC1\",\"PC2\",\"PC3\",\"PC4\",\"PC5\",\"PC6\"]})"
   ]
  },
  {
   "cell_type": "code",
   "execution_count": 58,
   "metadata": {},
   "outputs": [
    {
     "data": {
      "text/html": [
       "<div>\n",
       "<style scoped>\n",
       "    .dataframe tbody tr th:only-of-type {\n",
       "        vertical-align: middle;\n",
       "    }\n",
       "\n",
       "    .dataframe tbody tr th {\n",
       "        vertical-align: top;\n",
       "    }\n",
       "\n",
       "    .dataframe thead th {\n",
       "        text-align: right;\n",
       "    }\n",
       "</style>\n",
       "<table border=\"1\" class=\"dataframe\">\n",
       "  <thead>\n",
       "    <tr style=\"text-align: right;\">\n",
       "      <th></th>\n",
       "      <th>var</th>\n",
       "      <th>PC</th>\n",
       "    </tr>\n",
       "  </thead>\n",
       "  <tbody>\n",
       "    <tr>\n",
       "      <th>0</th>\n",
       "      <td>10.364876</td>\n",
       "      <td>PC1</td>\n",
       "    </tr>\n",
       "    <tr>\n",
       "      <th>1</th>\n",
       "      <td>9.642193</td>\n",
       "      <td>PC2</td>\n",
       "    </tr>\n",
       "    <tr>\n",
       "      <th>2</th>\n",
       "      <td>7.085415</td>\n",
       "      <td>PC3</td>\n",
       "    </tr>\n",
       "    <tr>\n",
       "      <th>3</th>\n",
       "      <td>5.824590</td>\n",
       "      <td>PC4</td>\n",
       "    </tr>\n",
       "    <tr>\n",
       "      <th>4</th>\n",
       "      <td>5.617522</td>\n",
       "      <td>PC5</td>\n",
       "    </tr>\n",
       "    <tr>\n",
       "      <th>5</th>\n",
       "      <td>4.821046</td>\n",
       "      <td>PC6</td>\n",
       "    </tr>\n",
       "  </tbody>\n",
       "</table>\n",
       "</div>"
      ],
      "text/plain": [
       "         var   PC\n",
       "0  10.364876  PC1\n",
       "1   9.642193  PC2\n",
       "2   7.085415  PC3\n",
       "3   5.824590  PC4\n",
       "4   5.617522  PC5\n",
       "5   4.821046  PC6"
      ]
     },
     "execution_count": 58,
     "metadata": {},
     "output_type": "execute_result"
    }
   ],
   "source": [
    "df_var"
   ]
  },
  {
   "cell_type": "code",
   "execution_count": 59,
   "metadata": {},
   "outputs": [
    {
     "data": {
      "text/plain": [
       "43"
      ]
     },
     "execution_count": 59,
     "metadata": {},
     "output_type": "execute_result"
    }
   ],
   "source": [
    "int(df_var[\"var\"].sum())"
   ]
  },
  {
   "cell_type": "code",
   "execution_count": 60,
   "metadata": {},
   "outputs": [
    {
     "data": {
      "text/plain": [
       "0.38066666666666665"
      ]
     },
     "execution_count": 60,
     "metadata": {},
     "output_type": "execute_result"
    }
   ],
   "source": [
    "(df[\"predict\"]==0).sum()/len(df)"
   ]
  },
  {
   "cell_type": "code",
   "execution_count": 67,
   "metadata": {},
   "outputs": [
    {
     "name": "stdout",
     "output_type": "stream",
     "text": [
      "(1500, 2)\n",
      "          2         1\n",
      "0 -0.660738  0.887871\n",
      "1 -1.354261  1.983265\n",
      "2 -1.184270 -0.385976\n",
      "3 -1.216561  0.163454\n",
      "4  2.101358  1.998014\n"
     ]
    }
   ],
   "source": [
    "from matplotlib import pyplot as plt\n",
    "from mpl_toolkits.mplot3d import Axes3D\n",
    "from mpl_toolkits.mplot3d import proj3d\n",
    "tocluster = pd.DataFrame(ps[[2,1]])\n",
    "print (tocluster.shape)\n",
    "print (tocluster.head())"
   ]
  },
  {
   "cell_type": "code",
   "execution_count": null,
   "metadata": {},
   "outputs": [],
   "source": []
  },
  {
   "cell_type": "code",
   "execution_count": 68,
   "metadata": {},
   "outputs": [
    {
     "data": {
      "image/png": "[encoded data removed]",
      "text/plain": [
       "<Figure size 576x576 with 1 Axes>"
      ]
     },
     "metadata": {
      "needs_background": "light"
     },
     "output_type": "display_data"
    }
   ],
   "source": [
    "fig = plt.figure(figsize=(8,8))\n",
    "plt.plot(tocluster[2], tocluster[1], 'o', markersize=2, color='blue', alpha=0.5, label='class1')\n",
    "\n",
    "plt.xlabel('x_values')\n",
    "plt.ylabel('y_values')\n",
    "plt.legend()\n",
    "plt.show()"
   ]
  },
  {
   "cell_type": "code",
   "execution_count": 69,
   "metadata": {},
   "outputs": [],
   "source": [
    "from sklearn.cluster import KMeans\n",
    "from sklearn.metrics import silhouette_score"
   ]
  },
  {
   "cell_type": "code",
   "execution_count": 70,
   "metadata": {},
   "outputs": [
    {
     "name": "stdout",
     "output_type": "stream",
     "text": [
      "[[-0.28660307 -1.8314652 ]\n",
      " [-0.69219206  0.18773584]\n",
      " [ 2.98354549  0.7220947 ]\n",
      " [-0.95016157  2.82349395]]\n"
     ]
    }
   ],
   "source": [
    "clusterer = KMeans(n_clusters=4,random_state=42).fit(tocluster)\n",
    "centers = clusterer.cluster_centers_\n",
    "c_preds = clusterer.predict(tocluster)\n",
    "print(centers)"
   ]
  },
  {
   "cell_type": "code",
   "execution_count": 71,
   "metadata": {},
   "outputs": [
    {
     "name": "stdout",
     "output_type": "stream",
     "text": [
      "[1 3 1 1 2 2 3 3 0 0 0 3 3 3 2 1 1 2 2 3 0 3 0 0 2 0 3 0 1 2 0 2 1 1 0 2 1\n",
      " 2 0 0 0 1 1 1 1 0 2 3 1 0 0 3 0 2 1 2 1 1 2 3 0 0 3 1 1 0 1 1 1 2 3 0 2 1\n",
      " 0 0 0 1 0 1 3 1 3 0 3 3 1 1 1 1 1 1 1 1 3 1 0 3 1 2]\n"
     ]
    }
   ],
   "source": [
    "print (c_preds[0:100])"
   ]
  },
  {
   "cell_type": "code",
   "execution_count": 73,
   "metadata": {},
   "outputs": [
    {
     "name": "stdout",
     "output_type": "stream",
     "text": [
      "['blue', 'green', 'blue', 'blue', 'purple', 'purple', 'green', 'green', 'orange', 'orange']\n"
     ]
    },
    {
     "data": {
      "image/png": "[encoded data removed]",
      "text/plain": [
       "<Figure size 576x576 with 1 Axes>"
      ]
     },
     "metadata": {
      "needs_background": "light"
     },
     "output_type": "display_data"
    }
   ],
   "source": [
    "import matplotlib\n",
    "fig = plt.figure(figsize=(8,8))\n",
    "colors = ['orange','blue','purple','green']\n",
    "colored = [colors[k] for k in c_preds]\n",
    "print (colored[0:10])\n",
    "plt.scatter(tocluster[2],tocluster[1],  color = colored)\n",
    "for ci,c in enumerate(centers):\n",
    "    plt.plot(c[0], c[1], 'o', markersize=8, color='red', alpha=0.9, label=''+str(ci))\n",
    "\n",
    "plt.xlabel('x_values')\n",
    "plt.ylabel('y_values')\n",
    "plt.legend()\n",
    "plt.show()"
   ]
  },
  {
   "cell_type": "code",
   "execution_count": null,
   "metadata": {},
   "outputs": [],
   "source": []
  },
  {
   "cell_type": "code",
   "execution_count": null,
   "metadata": {},
   "outputs": [],
   "source": []
  }
 ],
 "metadata": {
  "kernelspec": {
   "display_name": "Python 3",
   "language": "python",
   "name": "python3"
  },
  "language_info": {
   "codemirror_mode": {
    "name": "ipython",
    "version": 3
   },
   "file_extension": ".py",
   "mimetype": "text/x-python",
   "name": "python",
   "nbconvert_exporter": "python",
   "pygments_lexer": "ipython3",
   "version": "3.8.5"
  }
 },
 "nbformat": 4,
 "nbformat_minor": 4
}
